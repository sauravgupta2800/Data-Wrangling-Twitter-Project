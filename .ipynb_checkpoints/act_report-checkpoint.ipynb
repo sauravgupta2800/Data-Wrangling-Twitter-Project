{
 "cells": [
  {
   "cell_type": "markdown",
   "metadata": {},
   "source": [
    "\n",
    "<h1>ACT REPORT</h1>\n",
    "\n",
    "<i><font color='red'>*** All the 5 images included in this section are in img folder</font></i>"
   ]
  },
  {
   "cell_type": "markdown",
   "metadata": {},
   "source": [
    "<h2> Introduction </h2>\n",
    "<b> The dataset that I wrangle (and analyzing and visualizing) is the tweet archive of Twitter user @dog_rates, also known as WeRateDogs. WeRateDogs is a Twitter account that rates people's dogs with a humorous comment about the dog. These ratings almost always have a denominator of 10. The numerators, though? Almost always greater than 10. 11/10, 12/10, 13/10, etc. Why? Because \"they're good dogs Brent.\" WeRateDogs has over 4 million followers and has received international media coverage.</b>"
   ]
  },
  {
   "cell_type": "markdown",
   "metadata": {},
   "source": [
    "<h2> <Font color=\"Red\"> Exploring with visual and with insight observations</Font> </h2>"
   ]
  },
  {
   "cell_type": "markdown",
   "metadata": {},
   "source": [
    "<h2>Question 1: Which data is finding the Average Numerator ratings that a image has got after applying the various algorithm of neural networks( out of breed1 and breed2)?</h2>"
   ]
  },
  {
   "cell_type": "markdown",
   "metadata": {},
   "source": [
    "<h2> Concept:used the confidence interval:of their difference in means of numerator ratings</h2>"
   ]
  },
  {
   "cell_type": "markdown",
   "metadata": {},
   "source": [
    "<h3> Proportion of sample that fall in breed1 </h3>\n",
    "<b>0.73887814313346223</b>\n",
    "<h3> Proportion of sample that fall in breed2</h3>\n",
    "<b>0.74854932301740817)</b>\n",
    "\n",
    "<h3> average numerator value for thode who are not in breed1</h3>\n",
    "<b>11.563331151832461</b>\n",
    "<h3> average numerator value for thode who are not in breed1</h3>\n",
    "<b>11.456569767441861</b>"
   ]
  },
  {
   "cell_type": "markdown",
   "metadata": {},
   "source": [
    "\n",
    " <img src=\"img/img_mean_diff.png\" alt=\"img_mean_diff\" height=\"500\" width=\"500\"> "
   ]
  },
  {
   "cell_type": "markdown",
   "metadata": {},
   "source": [
    "<b>UPPER BOUND of 95% confidence interval</b>:<p>11.007321829893584</p>\n",
    "\n",
    "<b>LOWER BOUND of 95% confidence interval</b>:<p>12.313393980521447<p>\n",
    "\n",
    "<b>he interval was built at a 95% confidence level, and since the difference did not contain zero, this suggested there was truly a difference in the average numerator in the population of breed1 as compared to breed2.<b>\n",
    "\n",
    "<h3> Conclusion: Specifically we can be <font color=\"red\">95% confidence that difference in average numerator ratings for breed1 as compared to breed2</font> was in the provided interval of 11.007 to 12.31</h3>"
   ]
  },
  {
   "cell_type": "markdown",
   "metadata": {},
   "source": [
    "<h2> Question 2: What is the relation between retweeted and favorite count in twitter accounts.Are they dependent to each other? if yes?how much?Draw conclusion.</h2>"
   ]
  },
  {
   "cell_type": "markdown",
   "metadata": {},
   "source": [
    "<h2> Concept:used the Linear Regression to find the correlation coefficient and to find the best fit line</h2>"
   ]
  },
  {
   "cell_type": "markdown",
   "metadata": {},
   "source": [
    "<h4>In this case</h4>\n",
    "<ul>\n",
    "    <li><b>Explanatory variable</b>:Retweeted count</li>\n",
    "     <li><b>Response variable</b>:Favorite count</li>\n",
    "</ul>\n",
    "<p>from the observation we got</p>\n",
    "\n",
    "\n",
    " <img src=\"img/reg1.png\" alt=\"regression1\" height=\"500\" width=\"500\"> \n",
    "\n",
    "\n",
    "<h4> <font color=\"green\">From the pic it is clear that R-squared value is 0.706</font> which is near to 1 which is closer to best-fit </h4>\n",
    "\n",
    "\n",
    "\n",
    " <b>- R-squared values is used to find the amount of variablility in the response(Y-axis) explained by this model</b>\n",
    " \n",
    " <img src=\"img/reg2.png\" alt=\"regression2\" height=\"500\" width=\"500\"> \n",
    "\n",
    "\n",
    "<h4> A common way to visualize the relationship b/w two variables in linear regression is using a <font color=\"red\">Scatterplot</font>  its is easily observable that is forming a <font color=\"red\"> Positive correlation </font>. <font color=\"red\"> Correlation </font> is the measurement of the strength of associaltion b/w two variables and direction of relationship</h4>\n",
    "\n",
    "\n",
    " <img src=\"img/reg3.png\" alt=\"regression3\" height=\"500\" width=\"500\"> \n",
    "\n",
    "\n",
    "<h3>  <font color=\"red\"> Fitting a Regression Line</font> </h3>\n",
    "<h4> In bivariate case, we want a line which <font color=\"red\"> Best predict </font> the response, using explanatory variable.</h4>\n",
    "<ul>\n",
    "    <li>- Algoritm to find the best fit<font color=\"red\">  LEAST DQUARES ALGORITHM</font></li>\n",
    " <li>- Intercept: Expected value of the response when the explanatory variable is 0.</li>\n",
    " <li>- Slope: Expected change in the response for each 1 unit increase in the explanatory variable</li>\n",
    " <li>- INTERCEPT IS 75.3148</li>\n",
    " <li>- SLOPE IS 0.327340856219 (+ ve)</li>\n",
    "</ul>"
   ]
  },
  {
   "cell_type": "markdown",
   "metadata": {},
   "source": [
    "<h2> Question 3: Find the best source in twitter accounts for the average difference between retweeted count to favorite count ?</h2>"
   ]
  },
  {
   "cell_type": "markdown",
   "metadata": {},
   "source": [
    "<h3> We categorise the various sources separatoly than take the average rating difference between retweeted count and favorite count </h3>\n",
    "\n",
    "<h4> <font color=\"Red\">The difference is as</font> </h4>\n",
    "<ul>\n",
    "    <li>- Twitter Web Client: 3174.066667</li>\n",
    "    <li>- Twitter for iPhone: 5690.445486</li>\n",
    "    <li>- TweetDeck:  3135.090909</li>\n",
    "</ul>\n",
    " \n",
    "  <img src=\"img/source_diff.png\" alt=\"source_diff\" height=\"800\" width=\"800\"> \n",
    "\n",
    " \n",
    "\n",
    "<h3> Conclusion: Best Source is the `Twitter for iPhone` with average mean of 5690.45</h3>"
   ]
  },
  {
   "cell_type": "code",
   "execution_count": null,
   "metadata": {},
   "outputs": [],
   "source": []
  },
  {
   "cell_type": "code",
   "execution_count": null,
   "metadata": {},
   "outputs": [],
   "source": []
  }
 ],
 "metadata": {
  "kernelspec": {
   "display_name": "Python [conda env:anaconda3]",
   "language": "python",
   "name": "conda-env-anaconda3-py"
  },
  "language_info": {
   "codemirror_mode": {
    "name": "ipython",
    "version": 3
   },
   "file_extension": ".py",
   "mimetype": "text/x-python",
   "name": "python",
   "nbconvert_exporter": "python",
   "pygments_lexer": "ipython3",
   "version": "3.6.4"
  }
 },
 "nbformat": 4,
 "nbformat_minor": 2
}
